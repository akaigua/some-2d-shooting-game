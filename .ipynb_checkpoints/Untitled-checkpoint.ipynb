{
 "cells": [
  {
   "cell_type": "code",
   "execution_count": 2,
   "id": "d65aad02-10a2-4f09-8a04-56c943bf3d83",
   "metadata": {},
   "outputs": [
    {
     "data": {
      "text/plain": [
       "97"
      ]
     },
     "execution_count": 2,
     "metadata": {},
     "output_type": "execute_result"
    }
   ],
   "source": [
    "ord('a')"
   ]
  },
  {
   "cell_type": "code",
   "execution_count": 4,
   "id": "356a73d2-2f43-4d61-98ea-8fa176a361ec",
   "metadata": {},
   "outputs": [
    {
     "name": "stdout",
     "output_type": "stream",
     "text": [
      "0 t 116\n",
      "1 h 104\n",
      "2 i 105\n",
      "3 s 115\n",
      "4   32\n",
      "5 i 105\n",
      "6 s 115\n",
      "7   32\n",
      "8 a 97\n",
      "9   32\n",
      "10 b 98\n",
      "11 o 111\n",
      "12 o 111\n",
      "13 k 107\n",
      "14 . 46\n",
      "1326\n"
     ]
    }
   ],
   "source": [
    "txt = 'this is a book.'\n",
    "s = 0\n",
    "for word in range(len(txt)):\n",
    "    a = ord(txt[word])\n",
    "    s += a\n",
    "    print(word, txt[word], a)\n",
    "print(s)"
   ]
  },
  {
   "cell_type": "code",
   "execution_count": 5,
   "id": "474a509c-1060-40e5-8878-c9bd57e62c83",
   "metadata": {},
   "outputs": [
    {
     "data": {
      "text/plain": [
       "1"
      ]
     },
     "execution_count": 5,
     "metadata": {},
     "output_type": "execute_result"
    }
   ],
   "source": [
    "1 # 2"
   ]
  },
  {
   "cell_type": "code",
   "execution_count": 6,
   "id": "9c2195b8-b79a-452e-b8e7-d85cd67085f7",
   "metadata": {},
   "outputs": [
    {
     "ename": "SyntaxError",
     "evalue": "invalid syntax (<ipython-input-6-6e4fbf6a3469>, line 1)",
     "output_type": "error",
     "traceback": [
      "\u001b[0;36m  File \u001b[0;32m\"<ipython-input-6-6e4fbf6a3469>\"\u001b[0;36m, line \u001b[0;32m1\u001b[0m\n\u001b[0;31m    1 ! 2\u001b[0m\n\u001b[0m      ^\u001b[0m\n\u001b[0;31mSyntaxError\u001b[0m\u001b[0;31m:\u001b[0m invalid syntax\n"
     ]
    }
   ],
   "source": [
    "1 ! 2"
   ]
  },
  {
   "cell_type": "code",
   "execution_count": 8,
   "id": "e0e5ffcb-2b2f-4d60-8b0b-4735fe2513b3",
   "metadata": {},
   "outputs": [
    {
     "data": {
      "text/plain": [
       "1"
      ]
     },
     "execution_count": 8,
     "metadata": {},
     "output_type": "execute_result"
    }
   ],
   "source": [
    "n= 0\n",
    "n += True  \n",
    "n"
   ]
  },
  {
   "cell_type": "code",
   "execution_count": 11,
   "id": "a81abc1a-60ab-4998-b254-dc743c0d424a",
   "metadata": {},
   "outputs": [
    {
     "ename": "TypeError",
     "evalue": "unsupported operand type(s) for -=: 'int' and 'str'",
     "output_type": "error",
     "traceback": [
      "\u001b[0;31m---------------------------------------------------------------------------\u001b[0m",
      "\u001b[0;31mTypeError\u001b[0m                                 Traceback (most recent call last)",
      "\u001b[0;32m<ipython-input-11-75887d0406d8>\u001b[0m in \u001b[0;36m<module>\u001b[0;34m\u001b[0m\n\u001b[1;32m      1\u001b[0m \u001b[0mword\u001b[0m \u001b[0;34m=\u001b[0m \u001b[0;36m1\u001b[0m\u001b[0;34m\u001b[0m\u001b[0;34m\u001b[0m\u001b[0m\n\u001b[0;32m----> 2\u001b[0;31m \u001b[0mword\u001b[0m \u001b[0;34m-=\u001b[0m \u001b[0;34m'a'\u001b[0m\u001b[0;34m\u001b[0m\u001b[0;34m\u001b[0m\u001b[0m\n\u001b[0m\u001b[1;32m      3\u001b[0m \u001b[0mword\u001b[0m\u001b[0;34m\u001b[0m\u001b[0;34m\u001b[0m\u001b[0m\n",
      "\u001b[0;31mTypeError\u001b[0m: unsupported operand type(s) for -=: 'int' and 'str'"
     ]
    }
   ],
   "source": [
    "word = 1\n",
    "word -= 'a'  \n",
    "word"
   ]
  },
  {
   "cell_type": "code",
   "execution_count": 10,
   "id": "228f668b-a617-487c-bb94-c032e4672c53",
   "metadata": {},
   "outputs": [
    {
     "ename": "TypeError",
     "evalue": "object of type 'int' has no len()",
     "output_type": "error",
     "traceback": [
      "\u001b[0;31m---------------------------------------------------------------------------\u001b[0m",
      "\u001b[0;31mTypeError\u001b[0m                                 Traceback (most recent call last)",
      "\u001b[0;32m<ipython-input-10-0d3dc4d946ab>\u001b[0m in \u001b[0;36m<module>\u001b[0;34m\u001b[0m\n\u001b[0;32m----> 1\u001b[0;31m \u001b[0;32mfor\u001b[0m \u001b[0mi\u001b[0m \u001b[0;32min\u001b[0m \u001b[0mrange\u001b[0m\u001b[0;34m(\u001b[0m\u001b[0mlen\u001b[0m\u001b[0;34m(\u001b[0m\u001b[0;36m123\u001b[0m\u001b[0;34m)\u001b[0m \u001b[0;34m-\u001b[0m \u001b[0;36m1\u001b[0m\u001b[0;34m)\u001b[0m\u001b[0;34m:\u001b[0m\u001b[0;34m\u001b[0m\u001b[0;34m\u001b[0m\u001b[0m\n\u001b[0m\u001b[1;32m      2\u001b[0m     \u001b[0mn\u001b[0m\u001b[0;34m\u001b[0m\u001b[0;34m\u001b[0m\u001b[0m\n\u001b[1;32m      3\u001b[0m \u001b[0;34m\u001b[0m\u001b[0m\n",
      "\u001b[0;31mTypeError\u001b[0m: object of type 'int' has no len()"
     ]
    }
   ],
   "source": [
    "for i in range(len(123) - 1): \n",
    "    n"
   ]
  },
  {
   "cell_type": "code",
   "execution_count": 13,
   "id": "a5357a86-7677-4a83-ac8c-064d4cd86e98",
   "metadata": {},
   "outputs": [
    {
     "ename": "TypeError",
     "evalue": "can only concatenate str (not \"int\") to str",
     "output_type": "error",
     "traceback": [
      "\u001b[0;31m---------------------------------------------------------------------------\u001b[0m",
      "\u001b[0;31mTypeError\u001b[0m                                 Traceback (most recent call last)",
      "\u001b[0;32m<ipython-input-13-f2cc6a4f2183>\u001b[0m in \u001b[0;36m<module>\u001b[0;34m\u001b[0m\n\u001b[1;32m      1\u001b[0m \u001b[0mwList\u001b[0m \u001b[0;34m=\u001b[0m \u001b[0;34m[\u001b[0m\u001b[0;34m'a'\u001b[0m\u001b[0;34m,\u001b[0m\u001b[0;34m'bc'\u001b[0m\u001b[0;34m,\u001b[0m\u001b[0;34m'd'\u001b[0m\u001b[0;34m]\u001b[0m\u001b[0;34m\u001b[0m\u001b[0;34m\u001b[0m\u001b[0m\n\u001b[0;32m----> 2\u001b[0;31m \u001b[0mprint\u001b[0m\u001b[0;34m(\u001b[0m\u001b[0mwList\u001b[0m\u001b[0;34m[\u001b[0m\u001b[0;34m'bc'\u001b[0m \u001b[0;34m+\u001b[0m \u001b[0;36m1\u001b[0m\u001b[0;34m]\u001b[0m\u001b[0;34m)\u001b[0m\u001b[0;34m\u001b[0m\u001b[0;34m\u001b[0m\u001b[0m\n\u001b[0m",
      "\u001b[0;31mTypeError\u001b[0m: can only concatenate str (not \"int\") to str"
     ]
    }
   ],
   "source": [
    "wList = ['a','bc','d']\n",
    "print(wList['bc' + 1])"
   ]
  },
  {
   "cell_type": "code",
   "execution_count": 5,
   "id": "7a1751ec-581f-412b-8a4e-41d7ea077dc9",
   "metadata": {
    "scrolled": true,
    "tags": []
   },
   "outputs": [
    {
     "name": "stdout",
     "output_type": "stream",
     "text": [
      "1\n"
     ]
    }
   ],
   "source": [
    "i = 0\n",
    "while True:\n",
    "    i += 1\n",
    "    print(i)\n",
    "    if i > 0:\n",
    "        break"
   ]
  },
  {
   "cell_type": "code",
   "execution_count": 11,
   "id": "9d1c29b8-e630-445f-9e08-d2d2c12ae926",
   "metadata": {},
   "outputs": [],
   "source": [
    "i = 0\n",
    "while False:\n",
    "    print(i)\n",
    "    i += 1\n",
    "    if i > 1:\n",
    "        break"
   ]
  },
  {
   "cell_type": "code",
   "execution_count": 7,
   "id": "227dfcc5-2d1a-4dce-afd7-bc43dbc5c13b",
   "metadata": {},
   "outputs": [],
   "source": [
    "for i in range(0):\n",
    "    print(i)"
   ]
  },
  {
   "cell_type": "code",
   "execution_count": 9,
   "id": "75408b3e-4eef-4250-82a3-a5a7beb83605",
   "metadata": {},
   "outputs": [
    {
     "name": "stdout",
     "output_type": "stream",
     "text": [
      "-1\n"
     ]
    }
   ],
   "source": [
    "for i in range(-1,0):\n",
    "    print(i)"
   ]
  },
  {
   "cell_type": "code",
   "execution_count": 19,
   "id": "b13f47b0-1f51-46fe-9534-054ec436da3f",
   "metadata": {},
   "outputs": [
    {
     "data": {
      "text/plain": [
       "'00000000001'"
      ]
     },
     "execution_count": 19,
     "metadata": {},
     "output_type": "execute_result"
    }
   ],
   "source": [
    "nList = ['0' * 10 + '1']\n",
    "i = len(nList) - 1\n",
    "nList[i]"
   ]
  },
  {
   "cell_type": "code",
   "execution_count": 23,
   "id": "eab2d282-f912-4bca-af49-960ab393522e",
   "metadata": {},
   "outputs": [
    {
     "data": {
      "text/plain": [
       "[0]"
      ]
     },
     "execution_count": 23,
     "metadata": {},
     "output_type": "execute_result"
    }
   ],
   "source": [
    "mList = []\n",
    "mList = [0 * 10]\n",
    "mList"
   ]
  },
  {
   "cell_type": "code",
   "execution_count": 27,
   "id": "74352fa5-591f-48ca-a661-9dba85bc2968",
   "metadata": {},
   "outputs": [
    {
     "data": {
      "text/plain": [
       "3"
      ]
     },
     "execution_count": 27,
     "metadata": {},
     "output_type": "execute_result"
    }
   ],
   "source": [
    "n = 123\n",
    "int(str(n)[0]) + int(str(n)[1])\n"
   ]
  },
  {
   "cell_type": "code",
   "execution_count": 30,
   "id": "f153280b-4895-4412-b4c5-29d56e3c9ec4",
   "metadata": {},
   "outputs": [
    {
     "data": {
      "text/plain": [
       "'e'"
      ]
     },
     "execution_count": 30,
     "metadata": {},
     "output_type": "execute_result"
    }
   ],
   "source": [
    "word = 'apple'\n",
    "ord(word[-1]) \n",
    "word[-1]"
   ]
  },
  {
   "cell_type": "code",
   "execution_count": 31,
   "id": "3f6baf48-06d8-4f36-ad46-aa13ebbb1436",
   "metadata": {},
   "outputs": [
    {
     "name": "stdout",
     "output_type": "stream",
     "text": [
      "6\n"
     ]
    }
   ],
   "source": [
    "sum = 0\n",
    "for y in range(5):\n",
    "    for x in range(y + 1, 2 * y):\n",
    "        sum += 1\n",
    "print(sum)"
   ]
  },
  {
   "cell_type": "code",
   "execution_count": 36,
   "id": "903eb523-812c-4a4a-9eab-cf5e3c50aba0",
   "metadata": {},
   "outputs": [
    {
     "name": "stdin",
     "output_type": "stream",
     "text": [
      "input your txt Xyz\n"
     ]
    },
    {
     "name": "stdout",
     "output_type": "stream",
     "text": [
      "72\n"
     ]
    }
   ],
   "source": [
    "def cap(c):\n",
    "    if 'a' <= c <= 'z':\n",
    "        return chr(ord(c)-32)\n",
    "    else:\n",
    "        return c\n",
    "\n",
    "txt = input('input your txt')\n",
    "s= 0\n",
    "for c in txt:\n",
    "    s += ord(cap(c)) - ord('A')\n",
    "print(s)"
   ]
  },
  {
   "cell_type": "code",
   "execution_count": null,
   "id": "440d40b8-f1b5-478f-9480-4f12cef44be1",
   "metadata": {},
   "outputs": [],
   "source": [
    "cList = []\n",
    "for i in range(26):\n",
    "    cList.append(chr(ord('a') + i))\n",
    "for i in range(26):\n",
    "    print(cList[i])"
   ]
  },
  {
   "cell_type": "code",
   "execution_count": 7,
   "id": "05ab4ab2-46d0-4188-ae2f-9ef19139bfd4",
   "metadata": {},
   "outputs": [
    {
     "data": {
      "text/plain": [
       "array([0.04369237, 0.13781833, 0.3850758 , 0.67887966, 0.83535285,\n",
       "       0.25717313, 0.14160058, 0.51339724, 0.80157782, 0.19113113])"
      ]
     },
     "execution_count": 7,
     "metadata": {},
     "output_type": "execute_result"
    }
   ],
   "source": [
    "import numpy as np\n",
    "up.random.rand(10)"
   ]
  },
  {
   "cell_type": "code",
   "execution_count": 1,
   "id": "3ac047b8",
   "metadata": {},
   "outputs": [
    {
     "data": {
      "text/plain": [
       "1    1\n",
       "b    2\n",
       "dtype: int64"
      ]
     },
     "execution_count": 1,
     "metadata": {},
     "output_type": "execute_result"
    }
   ],
   "source": [
    "import pandas as pd\n",
    "pd.Series([1,2],['1','b'])"
   ]
  },
  {
   "cell_type": "code",
   "execution_count": 10,
   "id": "d83aa5fc",
   "metadata": {},
   "outputs": [
    {
     "data": {
      "text/plain": [
       "a   -0.926428\n",
       "b    0.210281\n",
       "c   -0.339414\n",
       "d   -0.948076\n",
       "e   -0.054923\n",
       "dtype: float64"
      ]
     },
     "execution_count": 10,
     "metadata": {},
     "output_type": "execute_result"
    }
   ],
   "source": [
    "s = pd.Series(np.random.randn(5), index = ['a','b','c','d','e'])\n",
    "type(s)\n",
    "s"
   ]
  },
  {
   "cell_type": "code",
   "execution_count": 11,
   "id": "1460a8e4",
   "metadata": {},
   "outputs": [
    {
     "data": {
      "text/plain": [
       "0    1.684082\n",
       "1    0.629255\n",
       "2    0.493369\n",
       "3    1.643703\n",
       "4   -0.402344\n",
       "5   -0.088542\n",
       "6    0.564147\n",
       "7   -1.763110\n",
       "8   -0.438439\n",
       "9   -0.860762\n",
       "dtype: float64"
      ]
     },
     "execution_count": 11,
     "metadata": {},
     "output_type": "execute_result"
    }
   ],
   "source": [
    "pd.Series(np.random.randn(10))"
   ]
  },
  {
   "cell_type": "code",
   "execution_count": 12,
   "id": "36fb6e5e",
   "metadata": {},
   "outputs": [
    {
     "data": {
      "text/plain": [
       "b    1\n",
       "a    0\n",
       "c    2\n",
       "dtype: int64"
      ]
     },
     "execution_count": 12,
     "metadata": {},
     "output_type": "execute_result"
    }
   ],
   "source": [
    "d = {'b':1, 'a':0, 'c':2}\n",
    "pd.Series(d)"
   ]
  },
  {
   "cell_type": "code",
   "execution_count": 13,
   "id": "807a5ea1",
   "metadata": {},
   "outputs": [
    {
     "data": {
      "text/plain": [
       "a    0.0\n",
       "b    1.0\n",
       "c    2.0\n",
       "d    NaN\n",
       "dtype: float64"
      ]
     },
     "execution_count": 13,
     "metadata": {},
     "output_type": "execute_result"
    }
   ],
   "source": [
    "pd.Series(d, index = ['a','b', 'c', 'd']) #NaN stands for not a number: standar missing data marker"
   ]
  },
  {
   "cell_type": "code",
   "execution_count": null,
   "id": "7631316a",
   "metadata": {},
   "outputs": [],
   "source": []
  }
 ],
 "metadata": {
  "kernelspec": {
   "display_name": "Python 3",
   "language": "python",
   "name": "python3"
  },
  "language_info": {
   "codemirror_mode": {
    "name": "ipython",
    "version": 3
   },
   "file_extension": ".py",
   "mimetype": "text/x-python",
   "name": "python",
   "nbconvert_exporter": "python",
   "pygments_lexer": "ipython3",
   "version": "3.8.8"
  }
 },
 "nbformat": 4,
 "nbformat_minor": 5
}
