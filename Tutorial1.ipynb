{
 "cells": [
  {
   "cell_type": "code",
   "execution_count": 1,
   "id": "d388ba86-a6ef-4b81-8281-ada4b34da696",
   "metadata": {
    "tags": []
   },
   "outputs": [
    {
     "data": {
      "text/plain": [
       "True"
      ]
     },
     "execution_count": 1,
     "metadata": {},
     "output_type": "execute_result"
    }
   ],
   "source": [
    "p = True\n",
    "q = False\n",
    "q != p"
   ]
  },
  {
   "cell_type": "code",
   "execution_count": 2,
   "id": "1e00f94a-3978-45b7-87e8-c28bf3cde30a",
   "metadata": {},
   "outputs": [
    {
     "name": "stdout",
     "output_type": "stream",
     "text": [
      "False True False True\n"
     ]
    }
   ],
   "source": [
    "print(\n",
    "p and q,\n",
    "p or q,\n",
    "not p,\n",
    "not q\n",
    ")"
   ]
  },
  {
   "cell_type": "code",
   "execution_count": 3,
   "id": "e70f9d6e-c0db-42b8-bdef-bcfb0b382bc3",
   "metadata": {},
   "outputs": [
    {
     "data": {
      "text/plain": [
       "True"
      ]
     },
     "execution_count": 3,
     "metadata": {},
     "output_type": "execute_result"
    }
   ],
   "source": [
    "True or (False or (False or True0)) #短路求值，不看后面的部分（即后面的部分被短路了）"
   ]
  },
  {
   "cell_type": "code",
   "execution_count": 7,
   "id": "8b16f178-1c33-4266-9ecf-1e4aa7bc6fe5",
   "metadata": {},
   "outputs": [
    {
     "name": "stdin",
     "output_type": "stream",
     "text": [
      "what is your password? hahaha\n"
     ]
    },
    {
     "name": "stdout",
     "output_type": "stream",
     "text": [
      "logging in...\n",
      "program finished\n"
     ]
    }
   ],
   "source": [
    "#password1.py\n",
    "pwd = input('what is your password?')\n",
    "if pwd == 'hahaha':\n",
    "    print('logging in...')\n",
    "else:\n",
    "    print('ERROR')\n",
    "\n",
    "print('program finished')"
   ]
  },
  {
   "cell_type": "code",
   "execution_count": 8,
   "id": "abe6ffb2-debf-41cd-a48d-7421fd56077c",
   "metadata": {},
   "outputs": [
    {
     "name": "stdout",
     "output_type": "stream",
     "text": [
      "0\n",
      "1\n",
      "2\n",
      "3\n",
      "4\n",
      "5\n",
      "6\n",
      "7\n",
      "8\n",
      "9\n"
     ]
    }
   ],
   "source": [
    "#while loop\n",
    "i = 0\n",
    "while i < 10:\n",
    "    print(i)\n",
    "    i = i + 1"
   ]
  },
  {
   "cell_type": "code",
   "execution_count": null,
   "id": "1af13320-fac1-4047-a887-04f9104f4544",
   "metadata": {},
   "outputs": [],
   "source": [
    "#for loop factorial\n",
    "n = int(input(\"enter a integer bigger than 0: \"))\n",
    "fact = 1\n",
    "for i in range(2, n + 1):\n",
    "    fact = fact * i\n",
    "print(str(n) + 'factorial is' + str(fact))"
   ]
  },
  {
   "cell_type": "code",
   "execution_count": null,
   "id": "0303edaa-81da-4cd2-8f33-53ef78656296",
   "metadata": {},
   "outputs": [],
   "source": [
    "#while loop factorial\n",
    "n = int(input(\"enter a integer bigger than 0: \"))\n",
    "fact = 1\n",
    "i = 2\n",
    "while i <= n:\n",
    "    fact = fact * i\n",
    "    i = i + 1\n",
    "print(str(n) + 'factorial is' + str(fact))"
   ]
  },
  {
   "cell_type": "code",
   "execution_count": 17,
   "id": "24cb23cf-01b7-47c3-9290-ef849e71b75c",
   "metadata": {},
   "outputs": [],
   "source": [
    "#circle area\n",
    "import math\n",
    "\n",
    "def area(radius):\n",
    "    output = math.pi * radius ** 2\n",
    "    return output\n"
   ]
  },
  {
   "cell_type": "code",
   "execution_count": 18,
   "id": "d889fdfc-8b7a-43dd-855c-51c611123778",
   "metadata": {},
   "outputs": [
    {
     "data": {
      "text/plain": [
       "78.53981633974483"
      ]
     },
     "execution_count": 18,
     "metadata": {},
     "output_type": "execute_result"
    }
   ],
   "source": [
    "area(5)"
   ]
  },
  {
   "cell_type": "code",
   "execution_count": 19,
   "id": "7da1bf44-928a-4d95-958c-f4a44906fd0a",
   "metadata": {},
   "outputs": [],
   "source": [
    "s = 'apple'"
   ]
  },
  {
   "cell_type": "code",
   "execution_count": 20,
   "id": "52e03dea-38b5-4ee8-9f3f-4803716dbd45",
   "metadata": {},
   "outputs": [
    {
     "data": {
      "text/plain": [
       "5"
      ]
     },
     "execution_count": 20,
     "metadata": {},
     "output_type": "execute_result"
    }
   ],
   "source": [
    "len(s)"
   ]
  },
  {
   "cell_type": "code",
   "execution_count": 21,
   "id": "a26ca0ab-a590-4510-b058-78ae78ffde2d",
   "metadata": {},
   "outputs": [
    {
     "data": {
      "text/plain": [
       "('a', 'p', 'p')"
      ]
     },
     "execution_count": 21,
     "metadata": {},
     "output_type": "execute_result"
    }
   ],
   "source": [
    "s[0], s[1],s[2]"
   ]
  },
  {
   "cell_type": "code",
   "execution_count": 22,
   "id": "e4b923ff-67bc-4bf4-b0d7-4fba0fda6b4b",
   "metadata": {},
   "outputs": [
    {
     "data": {
      "text/plain": [
       "'e'"
      ]
     },
     "execution_count": 22,
     "metadata": {},
     "output_type": "execute_result"
    }
   ],
   "source": [
    "s[-1]"
   ]
  },
  {
   "cell_type": "code",
   "execution_count": 23,
   "id": "111441c4-e698-414f-8f93-5704bac22813",
   "metadata": {},
   "outputs": [
    {
     "name": "stdout",
     "output_type": "stream",
     "text": [
      "apple\n"
     ]
    }
   ],
   "source": [
    "print(s)"
   ]
  },
  {
   "cell_type": "code",
   "execution_count": 24,
   "id": "42d10755-49d4-4c46-8bd3-f99649aa87b0",
   "metadata": {},
   "outputs": [
    {
     "name": "stdout",
     "output_type": "stream",
     "text": [
      "apple"
     ]
    }
   ],
   "source": [
    "for i in s:\n",
    "    print(i, end = \"\")"
   ]
  },
  {
   "cell_type": "code",
   "execution_count": 27,
   "id": "b39dd8af-9a0e-404f-87b6-505e1031e842",
   "metadata": {},
   "outputs": [
    {
     "data": {
      "text/plain": [
       "674"
      ]
     },
     "execution_count": 27,
     "metadata": {},
     "output_type": "execute_result"
    }
   ],
   "source": [
    "def codesum(s):\n",
    "    total = 0\n",
    "    for c in s:\n",
    "        total = total + ord(c)\n",
    "    return total\n",
    "\n",
    "codesum('python')"
   ]
  },
  {
   "cell_type": "code",
   "execution_count": 28,
   "id": "3d6dac5c-8fe8-45da-8ba0-0508e0762c2a",
   "metadata": {},
   "outputs": [
    {
     "name": "stdout",
     "output_type": "stream",
     "text": [
      " ' and ' are quotes\n"
     ]
    }
   ],
   "source": [
    "print(' \\' and \\' are quotes')"
   ]
  },
  {
   "cell_type": "code",
   "execution_count": 29,
   "id": "c2797c8a-f04f-4b00-8465-501565dfd44c",
   "metadata": {},
   "outputs": [
    {
     "name": "stdout",
     "output_type": "stream",
     "text": [
      "\\\\\\\\\n"
     ]
    },
    {
     "data": {
      "text/plain": [
       "4"
      ]
     },
     "execution_count": 29,
     "metadata": {},
     "output_type": "execute_result"
    }
   ],
   "source": [
    "print('\\\\\\\\\\\\\\\\')\n",
    "len('\\\\\\\\\\\\\\\\')"
   ]
  },
  {
   "cell_type": "code",
   "execution_count": 32,
   "id": "24710c5a-43c2-4b7f-9088-e4d71ce39d27",
   "metadata": {},
   "outputs": [
    {
     "data": {
      "text/plain": [
       "('apple', 'pie', 'I like apple', 'I like apple pie')"
      ]
     },
     "execution_count": 32,
     "metadata": {},
     "output_type": "execute_result"
    }
   ],
   "source": [
    "sentence = 'I like apple pie'\n",
    "sentence[7:12],sentence[13:],sentence[:12],sentence[:]"
   ]
  },
  {
   "cell_type": "code",
   "execution_count": 38,
   "id": "0f4490b0-c4ec-4852-93ba-e2a5a62073d8",
   "metadata": {},
   "outputs": [],
   "source": [
    "# extension\n",
    "def get_ext(fname):\n",
    "    \"\"\"\"\n",
    "    return the extension of file name\n",
    "    \"\"\"\n",
    "    dot = fname.rfind(\".\")\n",
    "    if dot == -1: # not ot\n",
    "        return \" \"\n",
    "    else:\n",
    "        return fname[(dot + 1):]"
   ]
  },
  {
   "cell_type": "code",
   "execution_count": 39,
   "id": "919059d8-4d69-4243-a3a4-48d65649bb9a",
   "metadata": {},
   "outputs": [
    {
     "data": {
      "text/plain": [
       "'ipynb'"
      ]
     },
     "execution_count": 39,
     "metadata": {},
     "output_type": "execute_result"
    }
   ],
   "source": [
    "file = \"Tutorial1.ipynb\"\n",
    "get_ext(file)"
   ]
  },
  {
   "cell_type": "code",
   "execution_count": 44,
   "id": "d56ef00c-cd8c-442a-806a-d37170d409b5",
   "metadata": {},
   "outputs": [
    {
     "data": {
      "text/plain": [
       "True"
      ]
     },
     "execution_count": 44,
     "metadata": {},
     "output_type": "execute_result"
    }
   ],
   "source": [
    "word = 'apple'\n",
    "word.islower()"
   ]
  },
  {
   "cell_type": "code",
   "execution_count": 43,
   "id": "a924c2c9-637f-40ee-9b37-670c91d2d2cf",
   "metadata": {},
   "outputs": [
    {
     "data": {
      "text/plain": [
       "False"
      ]
     },
     "execution_count": 43,
     "metadata": {},
     "output_type": "execute_result"
    }
   ],
   "source": [
    "word.endswith('3')"
   ]
  },
  {
   "cell_type": "code",
   "execution_count": 45,
   "id": "9cf05982-01dc-4afa-8d26-cc3d0a8cf9ab",
   "metadata": {},
   "outputs": [
    {
     "data": {
      "text/plain": [
       "True"
      ]
     },
     "execution_count": 45,
     "metadata": {},
     "output_type": "execute_result"
    }
   ],
   "source": [
    "word.isalpha()"
   ]
  },
  {
   "cell_type": "code",
   "execution_count": 53,
   "id": "a6f7f270-f1aa-49d0-b2c5-0621a415cc35",
   "metadata": {},
   "outputs": [
    {
     "data": {
      "text/plain": [
       "'Ethan'"
      ]
     },
     "execution_count": 53,
     "metadata": {},
     "output_type": "execute_result"
    }
   ],
   "source": [
    "word = 'Ethan'\n",
    "word.capitalize()"
   ]
  },
  {
   "cell_type": "code",
   "execution_count": 50,
   "id": "ee65067f-f1d9-4473-a3e0-cb8cdefc256a",
   "metadata": {},
   "outputs": [
    {
     "data": {
      "text/plain": [
       "'ETHAN'"
      ]
     },
     "execution_count": 50,
     "metadata": {},
     "output_type": "execute_result"
    }
   ],
   "source": [
    "word.swapcase()"
   ]
  },
  {
   "cell_type": "code",
   "execution_count": 49,
   "id": "9511ac76-afd3-49a4-a42c-37475b741a2e",
   "metadata": {},
   "outputs": [
    {
     "data": {
      "text/plain": [
       "'ETHAN'"
      ]
     },
     "execution_count": 49,
     "metadata": {},
     "output_type": "execute_result"
    }
   ],
   "source": [
    "word.upper()"
   ]
  },
  {
   "cell_type": "code",
   "execution_count": 54,
   "id": "6da80497-32c4-4e5e-b212-5e77161bcb10",
   "metadata": {},
   "outputs": [
    {
     "data": {
      "text/plain": [
       "'Jack likes Rose'"
      ]
     },
     "execution_count": 54,
     "metadata": {},
     "output_type": "execute_result"
    }
   ],
   "source": [
    "'{0} likes {1}'.format('Jack', 'Rose')"
   ]
  },
  {
   "cell_type": "code",
   "execution_count": 55,
   "id": "87085fcc-d8fb-4930-95b2-b6ecab9c54bd",
   "metadata": {},
   "outputs": [
    {
     "data": {
      "text/plain": [
       "'Dog likes meet'"
      ]
     },
     "execution_count": 55,
     "metadata": {},
     "output_type": "execute_result"
    }
   ],
   "source": [
    "'{pet} likes {food}'.format(pet = 'Dog', food = 'meet')"
   ]
  },
  {
   "cell_type": "code",
   "execution_count": 58,
   "id": "93865095-062f-4403-959d-f530a5cb36d9",
   "metadata": {},
   "outputs": [
    {
     "data": {
      "text/plain": [
       "' Bill Gates '"
      ]
     },
     "execution_count": 58,
     "metadata": {},
     "output_type": "execute_result"
    }
   ],
   "source": [
    "name = ' Bill Gates '\n",
    "name"
   ]
  },
  {
   "cell_type": "code",
   "execution_count": 59,
   "id": "f0752573-3719-411d-8270-3d936f0b115d",
   "metadata": {},
   "outputs": [
    {
     "data": {
      "text/plain": [
       "' Bill Gates'"
      ]
     },
     "execution_count": 59,
     "metadata": {},
     "output_type": "execute_result"
    }
   ],
   "source": [
    "name.rstrip()"
   ]
  },
  {
   "cell_type": "code",
   "execution_count": 60,
   "id": "d3f9ef20-a3e4-4ddf-b818-15672cf00318",
   "metadata": {},
   "outputs": [
    {
     "data": {
      "text/plain": [
       "('www', '.', '4399.com')"
      ]
     },
     "execution_count": 60,
     "metadata": {},
     "output_type": "execute_result"
    }
   ],
   "source": [
    "url = 'www.4399.com'\n",
    "url.partition('.')"
   ]
  },
  {
   "cell_type": "code",
   "execution_count": 61,
   "id": "80cf16d6-69b9-485d-8753-56c9f61ca166",
   "metadata": {},
   "outputs": [
    {
     "data": {
      "text/plain": [
       "('www.4399', '.', 'com')"
      ]
     },
     "execution_count": 61,
     "metadata": {},
     "output_type": "execute_result"
    }
   ],
   "source": [
    "url.rpartition('.') # tuple"
   ]
  },
  {
   "cell_type": "code",
   "execution_count": 62,
   "id": "80412b5e-b885-4235-bd80-c5b8113406af",
   "metadata": {},
   "outputs": [
    {
     "data": {
      "text/plain": [
       "['www', '4399', 'com']"
      ]
     },
     "execution_count": 62,
     "metadata": {},
     "output_type": "execute_result"
    }
   ],
   "source": [
    "url.split('.') # list"
   ]
  },
  {
   "cell_type": "code",
   "execution_count": 63,
   "id": "44b6649c-507a-4c89-8510-d7ebc7221573",
   "metadata": {},
   "outputs": [
    {
     "data": {
      "text/plain": [
       "['Bill', 'Gates']"
      ]
     },
     "execution_count": 63,
     "metadata": {},
     "output_type": "execute_result"
    }
   ],
   "source": [
    "name.split()"
   ]
  },
  {
   "cell_type": "code",
   "execution_count": 64,
   "id": "1001eb75-f829-4b91-b5f7-770c2b82e9ac",
   "metadata": {},
   "outputs": [
    {
     "data": {
      "text/plain": [
       "'day day good good'"
      ]
     },
     "execution_count": 64,
     "metadata": {},
     "output_type": "execute_result"
    }
   ],
   "source": [
    "s = 'day day up up'\n",
    "s.replace('up', 'good')"
   ]
  },
  {
   "cell_type": "code",
   "execution_count": 65,
   "id": "dbc54209-a5b0-471a-8cb0-b5e938389927",
   "metadata": {},
   "outputs": [
    {
     "data": {
      "text/plain": [
       "2"
      ]
     },
     "execution_count": 65,
     "metadata": {},
     "output_type": "execute_result"
    }
   ],
   "source": [
    "s.count('day')"
   ]
  },
  {
   "cell_type": "code",
   "execution_count": 67,
   "id": "6f2ce1af-5fa4-413d-beeb-01b4d4c6b64f",
   "metadata": {},
   "outputs": [
    {
     "data": {
      "text/plain": [
       "'once upon a time'"
      ]
     },
     "execution_count": 67,
     "metadata": {},
     "output_type": "execute_result"
    }
   ],
   "source": [
    "' '.join(['once', 'upon', 'a', 'time'])"
   ]
  },
  {
   "cell_type": "code",
   "execution_count": 68,
   "id": "cfe49b41-da7b-4e20-a86f-ef7b3cb93088",
   "metadata": {},
   "outputs": [
    {
     "data": {
      "text/plain": [
       "True"
      ]
     },
     "execution_count": 68,
     "metadata": {},
     "output_type": "execute_result"
    }
   ],
   "source": [
    "def is_done(s):\n",
    "    return s == 'done' or s == 'quit'\n",
    "\n",
    "is_done('done')"
   ]
  },
  {
   "cell_type": "code",
   "execution_count": 71,
   "id": "1ee1e343-e44e-4b70-baab-e54a38ddf485",
   "metadata": {},
   "outputs": [
    {
     "data": {
      "text/plain": [
       "True"
      ]
     },
     "execution_count": 71,
     "metadata": {},
     "output_type": "execute_result"
    }
   ],
   "source": [
    "import re # 正则表达式\n",
    "\n",
    "def is_done2(s):\n",
    "    return re.match('done|quit',s) != None\n",
    "\n",
    "is_done2('quit')"
   ]
  },
  {
   "cell_type": "code",
   "execution_count": 72,
   "id": "4f7b81dc-b7f8-44f3-9326-5a35da2237e3",
   "metadata": {},
   "outputs": [
    {
     "data": {
      "text/plain": [
       "True"
      ]
     },
     "execution_count": 72,
     "metadata": {},
     "output_type": "execute_result"
    }
   ],
   "source": [
    "def is_funny(s):\n",
    "    return re.match('(ha)+!+', s) != None\n",
    "\n",
    "is_funny('ha!!!!!')"
   ]
  },
  {
   "cell_type": "code",
   "execution_count": 73,
   "id": "55fe4584-cfc2-47ac-870e-ea7598558c46",
   "metadata": {},
   "outputs": [
    {
     "name": "stdout",
     "output_type": "stream",
     "text": [
      "1\n"
     ]
    }
   ],
   "source": [
    "i = 0\n",
    "while True:\n",
    "    i += 1\n",
    "    print(i)\n",
    "    if i > 0:\n",
    "        break"
   ]
  },
  {
   "cell_type": "code",
   "execution_count": 74,
   "id": "5947bc02-770a-4e27-9eae-8f377bcbbb97",
   "metadata": {},
   "outputs": [],
   "source": [
    "i = 0\n",
    "while False:\n",
    "    i += 1\n",
    "    print(i)\n",
    "    if i > 1:\n",
    "        break"
   ]
  },
  {
   "cell_type": "code",
   "execution_count": 1,
   "id": "46825601-5701-4079-96c6-646ef7f34626",
   "metadata": {},
   "outputs": [],
   "source": [
    "item = (-6,'cat', (1,2))"
   ]
  },
  {
   "cell_type": "code",
   "execution_count": 2,
   "id": "c411bc5b",
   "metadata": {},
   "outputs": [
    {
     "name": "stdout",
     "output_type": "stream",
     "text": [
      "(-6, 'cat', (1, 2))\n"
     ]
    }
   ],
   "source": [
    "print(item)"
   ]
  },
  {
   "cell_type": "code",
   "execution_count": 3,
   "id": "aa044021",
   "metadata": {},
   "outputs": [
    {
     "name": "stdout",
     "output_type": "stream",
     "text": [
      "cat\n",
      "-6\n",
      "<class 'tuple'>\n"
     ]
    }
   ],
   "source": [
    "print(item[1])\n",
    "print(item[0])\n",
    "print(type(item))"
   ]
  },
  {
   "cell_type": "code",
   "execution_count": 4,
   "id": "265defe9",
   "metadata": {},
   "outputs": [
    {
     "data": {
      "text/plain": [
       "(6, 7, 8, 9)"
      ]
     },
     "execution_count": 4,
     "metadata": {},
     "output_type": "execute_result"
    }
   ],
   "source": [
    "lucky = (6,7,8,9)\n",
    "lucky"
   ]
  },
  {
   "cell_type": "code",
   "execution_count": 23,
   "id": "be509c95",
   "metadata": {},
   "outputs": [
    {
     "data": {
      "text/plain": [
       "(7, 8, 9)"
      ]
     },
     "execution_count": 23,
     "metadata": {},
     "output_type": "execute_result"
    }
   ],
   "source": [
    "#元组是不可变的，不像list是可变的，这是最大的劣势也同时是最大的优势。如果要更改元组，需借助另一个tuple重新赋值\n",
    "lucky2 = lucky[0:]\n",
    "lucky2"
   ]
  },
  {
   "cell_type": "code",
   "execution_count": 9,
   "id": "386f3efc",
   "metadata": {},
   "outputs": [
    {
     "data": {
      "text/plain": [
       "(7, 8, 9)"
      ]
     },
     "execution_count": 9,
     "metadata": {},
     "output_type": "execute_result"
    }
   ],
   "source": [
    "lucky = lucky2[1:]\n",
    "lucky"
   ]
  },
  {
   "cell_type": "code",
   "execution_count": 14,
   "id": "e3020d03",
   "metadata": {},
   "outputs": [
    {
     "data": {
      "text/plain": [
       "('dogs', 'cats', 'birds', 'pigs', 'dogs')"
      ]
     },
     "execution_count": 14,
     "metadata": {},
     "output_type": "execute_result"
    }
   ],
   "source": [
    "pets = ('dogs', 'cats', 'birds', 'pigs', 'dogs')\n",
    "pets"
   ]
  },
  {
   "cell_type": "code",
   "execution_count": 15,
   "id": "d3bf441a",
   "metadata": {},
   "outputs": [
    {
     "data": {
      "text/plain": [
       "False"
      ]
     },
     "execution_count": 15,
     "metadata": {},
     "output_type": "execute_result"
    }
   ],
   "source": [
    "'bird' in pets"
   ]
  },
  {
   "cell_type": "code",
   "execution_count": 16,
   "id": "a0fa3c20",
   "metadata": {},
   "outputs": [
    {
     "data": {
      "text/plain": [
       "True"
      ]
     },
     "execution_count": 16,
     "metadata": {},
     "output_type": "execute_result"
    }
   ],
   "source": [
    "'birds' in pets"
   ]
  },
  {
   "cell_type": "code",
   "execution_count": 17,
   "id": "d00e4330",
   "metadata": {},
   "outputs": [
    {
     "data": {
      "text/plain": [
       "2"
      ]
     },
     "execution_count": 17,
     "metadata": {},
     "output_type": "execute_result"
    }
   ],
   "source": [
    "pets.count('dogs')"
   ]
  },
  {
   "cell_type": "code",
   "execution_count": 20,
   "id": "a2901414",
   "metadata": {},
   "outputs": [
    {
     "data": {
      "text/plain": [
       "1"
      ]
     },
     "execution_count": 20,
     "metadata": {},
     "output_type": "execute_result"
    }
   ],
   "source": [
    "pets.index('cats')"
   ]
  },
  {
   "cell_type": "code",
   "execution_count": 21,
   "id": "7257fe60",
   "metadata": {},
   "outputs": [
    {
     "ename": "ValueError",
     "evalue": "tuple.index(x): x not in tuple",
     "output_type": "error",
     "traceback": [
      "\u001b[0;31m---------------------------------------------------------------------------\u001b[0m",
      "\u001b[0;31mValueError\u001b[0m                                Traceback (most recent call last)",
      "\u001b[0;32m<ipython-input-21-b63f13be458d>\u001b[0m in \u001b[0;36m<module>\u001b[0;34m\u001b[0m\n\u001b[0;32m----> 1\u001b[0;31m \u001b[0mpets\u001b[0m\u001b[0;34m.\u001b[0m\u001b[0mindex\u001b[0m\u001b[0;34m(\u001b[0m\u001b[0;34m'fishes'\u001b[0m\u001b[0;34m)\u001b[0m\u001b[0;34m\u001b[0m\u001b[0;34m\u001b[0m\u001b[0m\n\u001b[0m",
      "\u001b[0;31mValueError\u001b[0m: tuple.index(x): x not in tuple"
     ]
    }
   ],
   "source": [
    "pets.index('fishes')"
   ]
  },
  {
   "cell_type": "code",
   "execution_count": 22,
   "id": "0538941a",
   "metadata": {},
   "outputs": [
    {
     "data": {
      "text/plain": [
       "((1, 2, 3, 2, 3, 4), (1, 2, 3, 1, 2, 3))"
      ]
     },
     "execution_count": 22,
     "metadata": {},
     "output_type": "execute_result"
    }
   ],
   "source": [
    "a = (1,2,3)\n",
    "b = (2,3,4)\n",
    "a + b, a * 2"
   ]
  },
  {
   "cell_type": "code",
   "execution_count": 24,
   "id": "daa39a3b",
   "metadata": {},
   "outputs": [
    {
     "data": {
      "text/plain": [
       "[2, 7, -234, 9]"
      ]
     },
     "execution_count": 24,
     "metadata": {},
     "output_type": "execute_result"
    }
   ],
   "source": [
    "#List\n",
    "numbers = [2, 7,-234,9]\n",
    "numbers"
   ]
  },
  {
   "cell_type": "code",
   "execution_count": 26,
   "id": "68295f61",
   "metadata": {},
   "outputs": [
    {
     "name": "stdout",
     "output_type": "stream",
     "text": [
      "<class 'list'>\n"
     ]
    }
   ],
   "source": [
    "len(numbers)\n",
    "print(type(numbers))"
   ]
  },
  {
   "cell_type": "code",
   "execution_count": 28,
   "id": "91c7f701",
   "metadata": {},
   "outputs": [
    {
     "data": {
      "text/plain": [
       "[7, -234]"
      ]
     },
     "execution_count": 28,
     "metadata": {},
     "output_type": "execute_result"
    }
   ],
   "source": [
    "numbers[-3:-1]"
   ]
  },
  {
   "cell_type": "code",
   "execution_count": 29,
   "id": "6ffb088a",
   "metadata": {},
   "outputs": [
    {
     "data": {
      "text/plain": [
       "['dogs', 'cats', 'birds', 'pigs', 'dogs']"
      ]
     },
     "execution_count": 29,
     "metadata": {},
     "output_type": "execute_result"
    }
   ],
   "source": [
    "pets = ['dogs', 'cats', 'birds', 'pigs', 'dogs']\n",
    "pets"
   ]
  },
  {
   "cell_type": "code",
   "execution_count": 31,
   "id": "b45524dc",
   "metadata": {},
   "outputs": [
    {
     "data": {
      "text/plain": [
       "['dogs', 'cats', 'cows', 'pigs', 'dogs']"
      ]
     },
     "execution_count": 31,
     "metadata": {},
     "output_type": "execute_result"
    }
   ],
   "source": [
    "pets[2] = 'cows'\n",
    "pets"
   ]
  },
  {
   "cell_type": "code",
   "execution_count": 32,
   "id": "94176b14",
   "metadata": {},
   "outputs": [
    {
     "data": {
      "text/plain": [
       "[1, 2, 3]"
      ]
     },
     "execution_count": 32,
     "metadata": {},
     "output_type": "execute_result"
    }
   ],
   "source": [
    "snake = [1,2,3]\n",
    "snake"
   ]
  },
  {
   "cell_type": "code",
   "execution_count": 34,
   "id": "0f1a0d06",
   "metadata": {},
   "outputs": [
    {
     "data": {
      "text/plain": [
       "[1, [...], 3]"
      ]
     },
     "execution_count": 34,
     "metadata": {},
     "output_type": "execute_result"
    }
   ],
   "source": [
    "snake[1] = snake\n",
    "snake"
   ]
  },
  {
   "cell_type": "code",
   "execution_count": 35,
   "id": "aac5c2eb",
   "metadata": {},
   "outputs": [
    {
     "data": {
      "text/plain": [
       "[1, [...], 3]"
      ]
     },
     "execution_count": 35,
     "metadata": {},
     "output_type": "execute_result"
    }
   ],
   "source": [
    "snake[1]"
   ]
  },
  {
   "cell_type": "code",
   "execution_count": 36,
   "id": "2a9b08f9",
   "metadata": {},
   "outputs": [
    {
     "name": "stdout",
     "output_type": "stream",
     "text": [
      "[1, [...], 3]\n"
     ]
    }
   ],
   "source": [
    "print(snake[1][1][1])"
   ]
  },
  {
   "cell_type": "code",
   "execution_count": 37,
   "id": "7e77b690",
   "metadata": {},
   "outputs": [
    {
     "data": {
      "text/plain": [
       "['cat']"
      ]
     },
     "execution_count": 37,
     "metadata": {},
     "output_type": "execute_result"
    }
   ],
   "source": [
    "l = []\n",
    "l.append('cat')\n",
    "l"
   ]
  },
  {
   "cell_type": "code",
   "execution_count": 45,
   "id": "3bde134b",
   "metadata": {},
   "outputs": [],
   "source": [
    "def numnote(i):\n",
    "    msg = []\n",
    "    for num in i:\n",
    "        if num < 0:\n",
    "            s = str(num) + ' is negative'\n",
    "        elif 0 <= num <= 9:\n",
    "            s = str(num) + ' is a digit'\n",
    "        else:\n",
    "            s = str(num) + ' is over ten'\n",
    "        msg.append(s)\n",
    "    return msg"
   ]
  },
  {
   "cell_type": "code",
   "execution_count": 46,
   "id": "a5ca84b8",
   "metadata": {},
   "outputs": [
    {
     "name": "stdout",
     "output_type": "stream",
     "text": [
      "['1 is a digit', '-1 is negative', '10 is over ten', '6 is a digit', '2 is a digit']\n"
     ]
    }
   ],
   "source": [
    "output = numnote([1, -1, 10, 6, 2])\n",
    "print(output)"
   ]
  },
  {
   "cell_type": "code",
   "execution_count": 48,
   "id": "63c60b60",
   "metadata": {},
   "outputs": [
    {
     "data": {
      "text/plain": [
       "[1, 2, 3, '1', '2', '3']"
      ]
     },
     "execution_count": 48,
     "metadata": {},
     "output_type": "execute_result"
    }
   ],
   "source": [
    "a = [1,2,3]\n",
    "a = a + ['1','2','3']\n",
    "a"
   ]
  },
  {
   "cell_type": "code",
   "execution_count": 51,
   "id": "33f0f621",
   "metadata": {},
   "outputs": [
    {
     "data": {
      "text/plain": [
       "[1, 2, 3, '1', '2', '3']"
      ]
     },
     "execution_count": 51,
     "metadata": {},
     "output_type": "execute_result"
    }
   ],
   "source": [
    "a = [1,2,3]\n",
    "a.extend(['1','2','3'])\n",
    "a"
   ]
  },
  {
   "cell_type": "code",
   "execution_count": 52,
   "id": "d3af6145",
   "metadata": {},
   "outputs": [
    {
     "data": {
      "text/plain": [
       "3"
      ]
     },
     "execution_count": 52,
     "metadata": {},
     "output_type": "execute_result"
    }
   ],
   "source": [
    "a.index('1')"
   ]
  },
  {
   "cell_type": "code",
   "execution_count": 58,
   "id": "4b63311b",
   "metadata": {},
   "outputs": [
    {
     "data": {
      "text/plain": [
       "[1, 2, 3, 'pop', '1', '2', '3']"
      ]
     },
     "execution_count": 58,
     "metadata": {},
     "output_type": "execute_result"
    }
   ],
   "source": [
    "a.insert(3,'pop')\n",
    "a"
   ]
  },
  {
   "cell_type": "code",
   "execution_count": 57,
   "id": "39a5d214",
   "metadata": {},
   "outputs": [
    {
     "data": {
      "text/plain": [
       "[1, 2, 3, '1', '2', '3']"
      ]
     },
     "execution_count": 57,
     "metadata": {},
     "output_type": "execute_result"
    }
   ],
   "source": [
    "a.remove('pop')\n",
    "a"
   ]
  },
  {
   "cell_type": "code",
   "execution_count": 60,
   "id": "af178432",
   "metadata": {},
   "outputs": [
    {
     "ename": "TypeError",
     "evalue": "remove() takes exactly one argument (3 given)",
     "output_type": "error",
     "traceback": [
      "\u001b[0;31m---------------------------------------------------------------------------\u001b[0m",
      "\u001b[0;31mTypeError\u001b[0m                                 Traceback (most recent call last)",
      "\u001b[0;32m<ipython-input-60-e60f9dcdc83d>\u001b[0m in \u001b[0;36m<module>\u001b[0;34m\u001b[0m\n\u001b[0;32m----> 1\u001b[0;31m \u001b[0ma\u001b[0m\u001b[0;34m.\u001b[0m\u001b[0mremove\u001b[0m\u001b[0;34m(\u001b[0m\u001b[0;34m'1'\u001b[0m\u001b[0;34m,\u001b[0m\u001b[0;34m'2'\u001b[0m\u001b[0;34m,\u001b[0m\u001b[0;34m'3'\u001b[0m\u001b[0;34m)\u001b[0m\u001b[0;34m\u001b[0m\u001b[0;34m\u001b[0m\u001b[0m\n\u001b[0m\u001b[1;32m      2\u001b[0m \u001b[0ma\u001b[0m\u001b[0;34m.\u001b[0m\u001b[0msort\u001b[0m\u001b[0;34m(\u001b[0m\u001b[0;34m)\u001b[0m\u001b[0;34m\u001b[0m\u001b[0;34m\u001b[0m\u001b[0m\n\u001b[1;32m      3\u001b[0m \u001b[0ma\u001b[0m\u001b[0;34m\u001b[0m\u001b[0;34m\u001b[0m\u001b[0m\n",
      "\u001b[0;31mTypeError\u001b[0m: remove() takes exactly one argument (3 given)"
     ]
    }
   ],
   "source": [
    "a.remove('1')\n",
    "a.remove('2')\n",
    "a.remove('3')\n",
    "a.sort()\n",
    "a"
   ]
  },
  {
   "cell_type": "code",
   "execution_count": 61,
   "id": "bcc5e329",
   "metadata": {},
   "outputs": [
    {
     "data": {
      "text/plain": [
       "['wash', 'banana', 'apple', 'abandon']"
      ]
     },
     "execution_count": 61,
     "metadata": {},
     "output_type": "execute_result"
    }
   ],
   "source": [
    "b = ['wash', 'apple', 'banana', 'abandon']\n",
    "b.sort()\n",
    "b.reverse()\n",
    "b"
   ]
  },
  {
   "cell_type": "code",
   "execution_count": 64,
   "id": "f612cfd6",
   "metadata": {},
   "outputs": [
    {
     "data": {
      "text/plain": [
       "[-234]"
      ]
     },
     "execution_count": 64,
     "metadata": {},
     "output_type": "execute_result"
    }
   ],
   "source": [
    "number = [-1, 0,9,87,1]\n",
    "result = [i for i in numbers if i <= 0] #== for i in numbers:      if i <= 0:     result.append(i)\n",
    "result"
   ]
  },
  {
   "cell_type": "code",
   "execution_count": 65,
   "id": "b4c246bc",
   "metadata": {},
   "outputs": [
    {
     "data": {
      "text/plain": [
       "{'red': 1, 'blue': 2, 'green': 3}"
      ]
     },
     "execution_count": 65,
     "metadata": {},
     "output_type": "execute_result"
    }
   ],
   "source": [
    "color = {'red':1, 'blue':2, 'green':3}\n",
    "color"
   ]
  },
  {
   "cell_type": "code",
   "execution_count": 66,
   "id": "ba18ec59",
   "metadata": {},
   "outputs": [
    {
     "data": {
      "text/plain": [
       "1"
      ]
     },
     "execution_count": 66,
     "metadata": {},
     "output_type": "execute_result"
    }
   ],
   "source": [
    "color['red']"
   ]
  },
  {
   "cell_type": "code",
   "execution_count": 68,
   "id": "4bc07236",
   "metadata": {},
   "outputs": [
    {
     "data": {
      "text/plain": [
       "{'blue': 2, 'green': 3}"
      ]
     },
     "execution_count": 68,
     "metadata": {},
     "output_type": "execute_result"
    }
   ],
   "source": [
    "color.pop('red')\n",
    "color"
   ]
  },
  {
   "cell_type": "code",
   "execution_count": 69,
   "id": "c6387818",
   "metadata": {},
   "outputs": [
    {
     "data": {
      "text/plain": [
       "{'blue': 2, 'green': 3, 'red': 1}"
      ]
     },
     "execution_count": 69,
     "metadata": {},
     "output_type": "execute_result"
    }
   ],
   "source": [
    "color['red'] = 1\n",
    "color"
   ]
  },
  {
   "cell_type": "code",
   "execution_count": 73,
   "id": "d48a3c55",
   "metadata": {},
   "outputs": [
    {
     "data": {
      "text/plain": [
       "dict_items([('blue', 2), ('green', 3), ('red', 1)])"
      ]
     },
     "execution_count": 73,
     "metadata": {},
     "output_type": "execute_result"
    }
   ],
   "source": [
    "color.items()"
   ]
  },
  {
   "cell_type": "code",
   "execution_count": 74,
   "id": "a73879b4",
   "metadata": {},
   "outputs": [
    {
     "data": {
      "text/plain": [
       "dict_keys(['blue', 'green', 'red'])"
      ]
     },
     "execution_count": 74,
     "metadata": {},
     "output_type": "execute_result"
    }
   ],
   "source": [
    "color.keys()"
   ]
  },
  {
   "cell_type": "code",
   "execution_count": 75,
   "id": "c4a44c49",
   "metadata": {},
   "outputs": [
    {
     "data": {
      "text/plain": [
       "dict_values([2, 3, 1])"
      ]
     },
     "execution_count": 75,
     "metadata": {},
     "output_type": "execute_result"
    }
   ],
   "source": [
    "color.values()"
   ]
  },
  {
   "cell_type": "code",
   "execution_count": 76,
   "id": "a1d94e42",
   "metadata": {},
   "outputs": [
    {
     "data": {
      "text/plain": [
       "({'blue': 2, 'green': 3}, ('red', 1))"
      ]
     },
     "execution_count": 76,
     "metadata": {},
     "output_type": "execute_result"
    }
   ],
   "source": [
    "a = color.popitem()\n",
    "color, a"
   ]
  },
  {
   "cell_type": "code",
   "execution_count": 78,
   "id": "737f7768",
   "metadata": {},
   "outputs": [
    {
     "data": {
      "text/plain": [
       "({'blue': 2, 'green': 3}, {'blue': 2, 'green': 3})"
      ]
     },
     "execution_count": 78,
     "metadata": {},
     "output_type": "execute_result"
    }
   ],
   "source": [
    "color1 = color.copy()\n",
    "color,color1"
   ]
  },
  {
   "cell_type": "code",
   "execution_count": 79,
   "id": "98db996d",
   "metadata": {},
   "outputs": [
    {
     "data": {
      "text/plain": [
       "{}"
      ]
     },
     "execution_count": 79,
     "metadata": {},
     "output_type": "execute_result"
    }
   ],
   "source": [
    "color1.clear()\n",
    "color1"
   ]
  },
  {
   "cell_type": "code",
   "execution_count": 80,
   "id": "d3cb9b0e",
   "metadata": {},
   "outputs": [
    {
     "data": {
      "text/plain": [
       "([1, 2, 3, 5, 56, 32, 1, 2, 3], 9)"
      ]
     },
     "execution_count": 80,
     "metadata": {},
     "output_type": "execute_result"
    }
   ],
   "source": [
    "l = [1,2,3,5,56,32,1,2,3]\n",
    "l, len(l)"
   ]
  },
  {
   "cell_type": "code",
   "execution_count": 81,
   "id": "8be839ee",
   "metadata": {},
   "outputs": [
    {
     "data": {
      "text/plain": [
       "({1, 2, 3, 5, 32, 56}, 6)"
      ]
     },
     "execution_count": 81,
     "metadata": {},
     "output_type": "execute_result"
    }
   ],
   "source": [
    "s = set(l)\n",
    "s,len(s)"
   ]
  },
  {
   "cell_type": "code",
   "execution_count": 83,
   "id": "6753432a",
   "metadata": {},
   "outputs": [
    {
     "data": {
      "text/plain": [
       "['Midterm Review 2 - Chapter 2.pdf',\n",
       " 'The weakness of dictatorship shown in Animal Farm.docx',\n",
       " '.DS_Store',\n",
       " 'New Hampton School',\n",
       " 'Calendar_2021_Color.pdf',\n",
       " '.localized',\n",
       " '迁移的项目',\n",
       " 'Untitled.ipynb',\n",
       " '北京西安行程景点信息.docx',\n",
       " '~$e weakness of dictatorship shown in Animal Farm.docx',\n",
       " '.漫威蜘蛛侠.key.icloud',\n",
       " 'Paraphrase for chapter 5 in Animal Farm.docx',\n",
       " '暑假plan.xlsx',\n",
       " 'Pleasure of Skiing.docx',\n",
       " 'Paraphrase of TKM chapter 24.docx',\n",
       " 'Tutorial1.ipynb',\n",
       " '陈希禹 以前',\n",
       " 'Rays.textClipping',\n",
       " 'Jerry Chen Fall 2020.pdf',\n",
       " '英语',\n",
       " 'Thoughts After Watching Fast & Furious 9.docx',\n",
       " '.ipynb_checkpoints',\n",
       " '迁移的项目.nosync',\n",
       " 'Old Man and the Sea by Hemingway Ernest.epub',\n",
       " '.m1 macbook air.key.icloud',\n",
       " '陈希禹',\n",
       " 'Rays',\n",
       " '4joBADglEgA=']"
      ]
     },
     "execution_count": 83,
     "metadata": {},
     "output_type": "execute_result"
    }
   ],
   "source": [
    "#读写文件\n",
    "import os\n",
    "os.listdir(os.getcwd())"
   ]
  },
  {
   "cell_type": "code",
   "execution_count": 84,
   "id": "bb662275",
   "metadata": {},
   "outputs": [
    {
     "data": {
      "text/plain": [
       "'/Users/jerrychen/Desktop'"
      ]
     },
     "execution_count": 84,
     "metadata": {},
     "output_type": "execute_result"
    }
   ],
   "source": [
    "os.getcwd()"
   ]
  },
  {
   "cell_type": "code",
   "execution_count": 95,
   "id": "0dca2999",
   "metadata": {},
   "outputs": [],
   "source": [
    "f  = open('/Users/jerrychen/Desktop/test.txt', 'w')\n",
    "f.write('Jerry Chen is a handsome \\n')\n",
    "f.write('guy!!!')\n",
    "f.close()"
   ]
  },
  {
   "cell_type": "code",
   "execution_count": 96,
   "id": "9cb4aec0",
   "metadata": {},
   "outputs": [
    {
     "name": "stdout",
     "output_type": "stream",
     "text": [
      "Jerry Chen is a handsome \n",
      "guy!!!"
     ]
    }
   ],
   "source": [
    "f = open('/Users/jerrychen/Desktop/test.txt', 'r')\n",
    "for line in f:\n",
    "    print(line, end = '')\n",
    "f.close()"
   ]
  },
  {
   "cell_type": "code",
   "execution_count": 97,
   "id": "9ee8d893",
   "metadata": {},
   "outputs": [
    {
     "name": "stdout",
     "output_type": "stream",
     "text": [
      "Jerry Chen is a handsome \n",
      "guy!!!\n"
     ]
    }
   ],
   "source": [
    "f = open('/Users/jerrychen/Desktop/test.txt', 'r')\n",
    "content = f.read()\n",
    "f.close()\n",
    "\n",
    "print(content)"
   ]
  },
  {
   "cell_type": "code",
   "execution_count": 98,
   "id": "411a51ca",
   "metadata": {},
   "outputs": [
    {
     "name": "stdout",
     "output_type": "stream",
     "text": [
      "Jerry Chen is a handsome \n",
      "\n"
     ]
    }
   ],
   "source": [
    "f = open('/Users/jerrychen/Desktop/test.txt', 'r')\n",
    "content = f.readline()\n",
    "f.close()\n",
    "\n",
    "print(content)"
   ]
  },
  {
   "cell_type": "code",
   "execution_count": 100,
   "id": "f43f05c9",
   "metadata": {},
   "outputs": [
    {
     "name": "stdout",
     "output_type": "stream",
     "text": [
      "{'alan': [1, 2, 3, 4], 'tom': [4, 3, 2, 1], 'may': [2, 3, 4, 5]}\n"
     ]
    }
   ],
   "source": [
    "import pickle\n",
    "grades = {'alan':[1,2,3,4],\n",
    "         'tom': [4,3,2,1],\n",
    "         'may': [2,3,4,5]}\n",
    "print(grades)\n",
    "f = open('/Users/jerrychen/Desktop/test.txt', 'wb')\n",
    "pickle.dump(grades,f)\n",
    "f.close()"
   ]
  },
  {
   "cell_type": "code",
   "execution_count": 101,
   "id": "44e162cd",
   "metadata": {},
   "outputs": [
    {
     "name": "stdout",
     "output_type": "stream",
     "text": [
      "{'alan': [1, 2, 3, 4], 'tom': [4, 3, 2, 1], 'may': [2, 3, 4, 5]}\n"
     ]
    }
   ],
   "source": [
    "f = open('/Users/jerrychen/Desktop/test.txt', 'rb')\n",
    "info = pickle.load(f)\n",
    "f.close()\n",
    "\n",
    "print(info)"
   ]
  },
  {
   "cell_type": "code",
   "execution_count": 2,
   "id": "f5795919",
   "metadata": {},
   "outputs": [
    {
     "name": "stdout",
     "output_type": "stream",
     "text": [
      "Please type your two choices below\n",
      "choice 1Reading\n",
      "choice 2Grammar\n",
      "Grammar\n"
     ]
    }
   ],
   "source": [
    "import random\n",
    "#hw = {'reading': 1, 'grammar': 2}\n",
    "print('Please type your two choices below')\n",
    "\n",
    "c1 = input('choice 1 = ')\n",
    "c2 = input('choice 2 = ')\n",
    "hwp = []\n",
    "\n",
    "for i in range(1000):\n",
    "    hwc = random.randint(0,2)\n",
    "    hwp.append(hwc)\n",
    "    i += 1\n",
    "    \n",
    "if sum(hwp)/ 1000 >= 1:\n",
    "    print(c1)\n",
    "else:\n",
    "    print(c2)"
   ]
  },
  {
   "cell_type": "code",
   "execution_count": null,
   "id": "9ba1b478",
   "metadata": {},
   "outputs": [],
   "source": []
  },
  {
   "cell_type": "code",
   "execution_count": null,
   "id": "341af727",
   "metadata": {},
   "outputs": [],
   "source": []
  }
 ],
 "metadata": {
  "kernelspec": {
   "display_name": "Python 3",
   "language": "python",
   "name": "python3"
  },
  "language_info": {
   "codemirror_mode": {
    "name": "ipython",
    "version": 3
   },
   "file_extension": ".py",
   "mimetype": "text/x-python",
   "name": "python",
   "nbconvert_exporter": "python",
   "pygments_lexer": "ipython3",
   "version": "3.8.8"
  }
 },
 "nbformat": 4,
 "nbformat_minor": 5
}
